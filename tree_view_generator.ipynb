{
 "cells": [
  {
   "cell_type": "markdown",
   "id": "6e14bfb0",
   "metadata": {},
   "source": [
    "# Script che crea un indice con struttura ad albero e lo salva nella cartella di base (base_folder)"
   ]
  },
  {
   "cell_type": "code",
   "execution_count": null,
   "id": "94afcd37",
   "metadata": {},
   "outputs": [],
   "source": [
    "# Se necessario, installa IPython per una visualizzazione migliore in Jupyter\n",
    "%pip install -q ipython"
   ]
  },
  {
   "cell_type": "code",
   "execution_count": 1,
   "id": "4c618ee6",
   "metadata": {},
   "outputs": [],
   "source": [
    "import os\n",
    "from IPython.display import Markdown, display"
   ]
  },
  {
   "cell_type": "code",
   "execution_count": null,
   "id": "76ef63e0",
   "metadata": {},
   "outputs": [],
   "source": [
    "# ---------- creazione della struttura ad albero ----------\n",
    "\n",
    "# INSERIRE IL PERCORSO DELLA CARTELLA QUI DI SEGUITO  DOPO LA \"r\"\n",
    "base_folder = r\"C:\\Users\\MicheleVecchio\\Documents\\Adria bus\\Routing\"\n",
    "\n",
    "# Mappa delle estensioni a icone\n",
    "EXT_ICONS = {\n",
    "    '.png': '🖼️', '.jpg': '🖼️', '.jpeg': '🖼️', '.gif': '🖼️', '.bmp': '🖼️',\n",
    "    '.pdf': '📄', '.doc': '📄', '.docx': '📄', '.txt': '📄',\n",
    "    '.md': '📝', '.rtf': '📑', '.csv': '📊', '.xls': '📊', '.xlsx': '📊',\n",
    "    '.py': '🐍', '.ipynb': '📓', '.js': '📜', '.html': '🌐', '.css': '🎨',\n",
    "    '.psd': '🎨', '.kra': '🎨', '.skp': '🏗️', '.blend': '🎞️',\n",
    "    '.svg': '🧩', '.qgz': '🗺️', '.zip': '🗜️', '.rar': '🗜️', '.7z': '🗜️',\n",
    "    '.json': '🔧', '.xml': '🔧', '.yml': '🔧', '.yaml': '🔧'\n",
    "}\n",
    "\n",
    "def get_icon_for_file(filename):\n",
    "    _, ext = os.path.splitext(filename.lower())\n",
    "    return EXT_ICONS.get(ext, '📄')\n",
    "\n",
    "def print_tree(root_path, prefix=\"\"):\n",
    "    \"\"\"\n",
    "    Stampa ricorsivamente la struttura ad albero della directory con icone.\n",
    "    \"\"\"\n",
    "    items = sorted(os.listdir(root_path), key=lambda x: (not os.path.isdir(os.path.join(root_path, x)), x.lower()))\n",
    "    entries = []\n",
    "    for idx, item in enumerate(items):\n",
    "        path = os.path.join(root_path, item)\n",
    "        connector = \"└── \" if idx == len(items) - 1 else \"├── \"\n",
    "        if os.path.isdir(path):\n",
    "            entries.append(f\"{prefix}{connector}📁 {item}/\")\n",
    "            extension = \"    \" if idx == len(items) - 1 else \"│   \"\n",
    "            entries += print_tree(path, prefix + extension)\n",
    "        else:\n",
    "            icon = get_icon_for_file(item)\n",
    "            entries.append(f\"{prefix}{connector}{icon} {item}\")\n",
    "    return entries\n",
    "\n",
    "def show_tree(start_path):\n",
    "    \"\"\"\n",
    "    Mostra la struttura ad albero partendo dalla cartella specificata e salva anche un file README_indice.txt.\n",
    "    \"\"\"\n",
    "    base = os.path.basename(os.path.abspath(start_path))\n",
    "    lines = [f\"📦 {base}/\"] + print_tree(start_path)\n",
    "\n",
    "    # Mostra la struttura in Jupyter\n",
    "    display(Markdown(\"\\n\".join([\"```\" + \"\\n\" + \"\\n\".join(lines) + \"\\n\" + \"```\"])))\n",
    "\n",
    "    # Salva anche su file README_indice.txt nella cartella di base\n",
    "    output_file = os.path.join(start_path, \"README_indice.txt\")\n",
    "    with open(output_file, \"w\", encoding=\"utf-8\") as f:\n",
    "        f.write(\"\\n\".join(lines))\n",
    "    print(f\"📄 Struttura salvata in: {output_file}\")\n",
    "\n",
    "show_tree(base_folder)"
   ]
  }
 ],
 "metadata": {
  "kernelspec": {
   "display_name": "Python 3",
   "language": "python",
   "name": "python3"
  },
  "language_info": {
   "codemirror_mode": {
    "name": "ipython",
    "version": 3
   },
   "file_extension": ".py",
   "mimetype": "text/x-python",
   "name": "python",
   "nbconvert_exporter": "python",
   "pygments_lexer": "ipython3",
   "version": "3.13.3"
  }
 },
 "nbformat": 4,
 "nbformat_minor": 5
}
